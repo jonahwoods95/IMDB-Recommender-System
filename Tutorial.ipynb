{
  "cells": [
    {
      "cell_type": "markdown",
      "metadata": {
        "id": "NcHNFEcWJOuf"
      },
      "source": [
        "# Dataset"
      ]
    },
    {
      "cell_type": "code",
      "execution_count": 84,
      "metadata": {},
      "outputs": [],
      "source": [
        "from pandas import read_csv\n",
        "from numpy import nan, mean, percentile\n",
        "from matplotlib.pyplot import subplots\n",
        "from seaborn import barplot, despine"
      ]
    },
    {
      "cell_type": "code",
      "execution_count": 95,
      "metadata": {},
      "outputs": [],
      "source": [
        "# From: https://datasets.imdbws.com\n",
        "reviews_og = read_csv('./data/reviews.tsv', sep='\\t')\n",
        "titles_og = read_csv('./data/titles.tsv', sep='\\t', low_memory=False)"
      ]
    },
    {
      "cell_type": "markdown",
      "metadata": {},
      "source": [
        "## Cleaning"
      ]
    },
    {
      "cell_type": "markdown",
      "metadata": {},
      "source": [
        "### Titles"
      ]
    },
    {
      "cell_type": "code",
      "execution_count": 113,
      "metadata": {},
      "outputs": [],
      "source": [
        "# Only pull movies\n",
        "movies = titles_og[titles_og['titleType'] == 'movie']\n",
        "\n",
        "# Input NaN where appropriate\n",
        "movies = movies.replace('\\\\N', nan)\n",
        "\n",
        "# Clean up dtypes\n",
        "movies['isAdult'] = movies['isAdult'].astype(int)\n",
        "movies['startYear'] = movies['startYear'].astype(\"Int64\")\n",
        "movies['runtimeMinutes'] = movies['runtimeMinutes'].astype(\"Int64\")\n",
        "\n",
        "# Drop endYear - always blank for movies\n",
        "movies = movies.drop(columns='endYear')"
      ]
    },
    {
      "cell_type": "code",
      "execution_count": 114,
      "metadata": {},
      "outputs": [
        {
          "data": {
            "text/html": [
              "<div>\n",
              "<style scoped>\n",
              "    .dataframe tbody tr th:only-of-type {\n",
              "        vertical-align: middle;\n",
              "    }\n",
              "\n",
              "    .dataframe tbody tr th {\n",
              "        vertical-align: top;\n",
              "    }\n",
              "\n",
              "    .dataframe thead th {\n",
              "        text-align: right;\n",
              "    }\n",
              "</style>\n",
              "<table border=\"1\" class=\"dataframe\">\n",
              "  <thead>\n",
              "    <tr style=\"text-align: right;\">\n",
              "      <th></th>\n",
              "      <th>tconst</th>\n",
              "      <th>titleType</th>\n",
              "      <th>primaryTitle</th>\n",
              "      <th>originalTitle</th>\n",
              "      <th>isAdult</th>\n",
              "      <th>startYear</th>\n",
              "      <th>runtimeMinutes</th>\n",
              "      <th>genres</th>\n",
              "    </tr>\n",
              "  </thead>\n",
              "  <tbody>\n",
              "    <tr>\n",
              "      <th>8</th>\n",
              "      <td>tt0000009</td>\n",
              "      <td>movie</td>\n",
              "      <td>Miss Jerry</td>\n",
              "      <td>Miss Jerry</td>\n",
              "      <td>0</td>\n",
              "      <td>1894</td>\n",
              "      <td>45</td>\n",
              "      <td>Romance</td>\n",
              "    </tr>\n",
              "    <tr>\n",
              "      <th>498</th>\n",
              "      <td>tt0000502</td>\n",
              "      <td>movie</td>\n",
              "      <td>Bohemios</td>\n",
              "      <td>Bohemios</td>\n",
              "      <td>0</td>\n",
              "      <td>1905</td>\n",
              "      <td>100</td>\n",
              "      <td>NaN</td>\n",
              "    </tr>\n",
              "    <tr>\n",
              "      <th>570</th>\n",
              "      <td>tt0000574</td>\n",
              "      <td>movie</td>\n",
              "      <td>The Story of the Kelly Gang</td>\n",
              "      <td>The Story of the Kelly Gang</td>\n",
              "      <td>0</td>\n",
              "      <td>1906</td>\n",
              "      <td>70</td>\n",
              "      <td>Action,Adventure,Biography</td>\n",
              "    </tr>\n",
              "    <tr>\n",
              "      <th>587</th>\n",
              "      <td>tt0000591</td>\n",
              "      <td>movie</td>\n",
              "      <td>The Prodigal Son</td>\n",
              "      <td>L'enfant prodigue</td>\n",
              "      <td>0</td>\n",
              "      <td>1907</td>\n",
              "      <td>90</td>\n",
              "      <td>Drama</td>\n",
              "    </tr>\n",
              "    <tr>\n",
              "      <th>610</th>\n",
              "      <td>tt0000615</td>\n",
              "      <td>movie</td>\n",
              "      <td>Robbery Under Arms</td>\n",
              "      <td>Robbery Under Arms</td>\n",
              "      <td>0</td>\n",
              "      <td>1907</td>\n",
              "      <td>&lt;NA&gt;</td>\n",
              "      <td>Drama</td>\n",
              "    </tr>\n",
              "  </tbody>\n",
              "</table>\n",
              "</div>"
            ],
            "text/plain": [
              "        tconst titleType                 primaryTitle  \\\n",
              "8    tt0000009     movie                   Miss Jerry   \n",
              "498  tt0000502     movie                     Bohemios   \n",
              "570  tt0000574     movie  The Story of the Kelly Gang   \n",
              "587  tt0000591     movie             The Prodigal Son   \n",
              "610  tt0000615     movie           Robbery Under Arms   \n",
              "\n",
              "                   originalTitle  isAdult  startYear  runtimeMinutes  \\\n",
              "8                     Miss Jerry        0       1894              45   \n",
              "498                     Bohemios        0       1905             100   \n",
              "570  The Story of the Kelly Gang        0       1906              70   \n",
              "587            L'enfant prodigue        0       1907              90   \n",
              "610           Robbery Under Arms        0       1907            <NA>   \n",
              "\n",
              "                         genres  \n",
              "8                       Romance  \n",
              "498                         NaN  \n",
              "570  Action,Adventure,Biography  \n",
              "587                       Drama  \n",
              "610                       Drama  "
            ]
          },
          "execution_count": 114,
          "metadata": {},
          "output_type": "execute_result"
        }
      ],
      "source": [
        "movies.head()"
      ]
    },
    {
      "cell_type": "markdown",
      "metadata": {},
      "source": [
        "### Reviews"
      ]
    },
    {
      "cell_type": "code",
      "execution_count": 115,
      "metadata": {},
      "outputs": [],
      "source": [
        "# Only keep reviews for movies\n",
        "reviews = reviews_og[reviews_og['tconst'].isin(movies['tconst'])]"
      ]
    },
    {
      "cell_type": "code",
      "execution_count": 116,
      "metadata": {},
      "outputs": [
        {
          "data": {
            "text/html": [
              "<div>\n",
              "<style scoped>\n",
              "    .dataframe tbody tr th:only-of-type {\n",
              "        vertical-align: middle;\n",
              "    }\n",
              "\n",
              "    .dataframe tbody tr th {\n",
              "        vertical-align: top;\n",
              "    }\n",
              "\n",
              "    .dataframe thead th {\n",
              "        text-align: right;\n",
              "    }\n",
              "</style>\n",
              "<table border=\"1\" class=\"dataframe\">\n",
              "  <thead>\n",
              "    <tr style=\"text-align: right;\">\n",
              "      <th></th>\n",
              "      <th>tconst</th>\n",
              "      <th>averageRating</th>\n",
              "      <th>numVotes</th>\n",
              "    </tr>\n",
              "  </thead>\n",
              "  <tbody>\n",
              "    <tr>\n",
              "      <th>8</th>\n",
              "      <td>tt0000009</td>\n",
              "      <td>5.2</td>\n",
              "      <td>200</td>\n",
              "    </tr>\n",
              "    <tr>\n",
              "      <th>325</th>\n",
              "      <td>tt0000502</td>\n",
              "      <td>4.2</td>\n",
              "      <td>14</td>\n",
              "    </tr>\n",
              "    <tr>\n",
              "      <th>357</th>\n",
              "      <td>tt0000574</td>\n",
              "      <td>6.0</td>\n",
              "      <td>791</td>\n",
              "    </tr>\n",
              "    <tr>\n",
              "      <th>364</th>\n",
              "      <td>tt0000591</td>\n",
              "      <td>5.1</td>\n",
              "      <td>20</td>\n",
              "    </tr>\n",
              "    <tr>\n",
              "      <th>378</th>\n",
              "      <td>tt0000615</td>\n",
              "      <td>4.3</td>\n",
              "      <td>23</td>\n",
              "    </tr>\n",
              "  </tbody>\n",
              "</table>\n",
              "</div>"
            ],
            "text/plain": [
              "        tconst  averageRating  numVotes\n",
              "8    tt0000009            5.2       200\n",
              "325  tt0000502            4.2        14\n",
              "357  tt0000574            6.0       791\n",
              "364  tt0000591            5.1        20\n",
              "378  tt0000615            4.3        23"
            ]
          },
          "execution_count": 116,
          "metadata": {},
          "output_type": "execute_result"
        }
      ],
      "source": [
        "reviews.head()"
      ]
    },
    {
      "cell_type": "markdown",
      "metadata": {
        "id": "UPSHx5UANsIb"
      },
      "source": [
        "# Popularity based\n",
        "\n",
        "**Introduction**\n",
        "\n",
        "For any machine learning problems, we need a baseline model or method to use as a reference whether our approach is good or not.\n",
        "\n",
        "Our machine learning prediction or sophsticated analysis should, at least, beat those baseline performance.\n",
        "\n",
        "For recommendation system, we can make a simple baseline score with popular item recommendation\n",
        "\n",
        "To define the popularity of the item, there have a metrics called weighted rating system that is used to score the rating of each movie.\n",
        "\n",
        "Here is the formula\n",
        "\n",
        "```\n",
        "(WR) = (v ÷ (v+m)) × R + (m ÷ (v+m)) × C\n",
        "```\n",
        "Where\n",
        "- R = average rating for the movie. (rating)\n",
        "- v = number of votes for the movie. (members)\n",
        "- m = minimum votes required to be listed in the Top 250 (defined by > percentile 80 of total votes)\n",
        "- C = the average rating across the whole dataset.\n",
        "\n",
        "**Drawback**\n",
        "\n",
        "- It's not personalized. All the users will get the same exact list of popularity based recommendation.\n",
        "\n",
        "**Action**\n",
        "\n",
        "- For new users, if we don't have any information about them we can provide the list based on ranking the vote_count or weighted_rating as a best guess.\n",
        "In real world, this is the result when you see the section \"Popular on Netflix\"\n",
        "\n",
        "**Reference**\n",
        "\n",
        "- [IMDB rating system](https://help.imdb.com/article/imdb/track-movies-tv/ratings-faq/G67Y87TFYYP6TWAV?ref_=helpms_helpart_inline#)"
      ]
    },
    {
      "cell_type": "code",
      "execution_count": 126,
      "metadata": {
        "colab": {
          "background_save": true
        },
        "id": "tw7HGVGWJTer",
        "outputId": "b23d0dfa-8bd0-4715-f99b-5fb390f9114d"
      },
      "outputs": [
        {
          "data": {
            "image/png": "[encoded data removed]",
            "text/plain": [
              "<Figure size 900x600 with 1 Axes>"
            ]
          },
          "metadata": {},
          "output_type": "display_data"
        }
      ],
      "source": [
        "def weighted_rating(v,m,R,C):\n",
        "    '''\n",
        "    Calculate the weighted rating\n",
        "    \n",
        "    Args:\n",
        "    v -> average rating for each item (float)\n",
        "    m -> minimum votes required to be classified as popular (float)\n",
        "    R -> average rating for the item (pd.Series)\n",
        "    C -> average rating for the whole dataset (pd.Series)\n",
        "    \n",
        "    Returns:\n",
        "    pd.Series\n",
        "    '''\n",
        "    return ( (v / (v + m)) * R) + ( (m / (v + m)) * C )\n",
        "\n",
        "# Calcuate input parameters\n",
        "C = mean(reviews['averageRating'])\n",
        "m = percentile(reviews['numVotes'], 99)\n",
        "R = reviews['averageRating']\n",
        "v = reviews['numVotes']\n",
        "\n",
        "# Create IMDB popular scoring\n",
        "qualified_reviews = reviews[reviews['numVotes'] >= m].copy()\n",
        "qualified_reviews['weighted_rating'] = weighted_rating(v,m,R,C)\n",
        "\n",
        "# Combine Data\n",
        "popular_movies = qualified_reviews.merge(movies, on = ['tconst'], how = 'inner') # Only want movies\n",
        "popular_movies = popular_movies.sort_values('weighted_rating', ascending = False)\n",
        "\n",
        "# plot the popularity based on the weighted score\n",
        "fix, ax = subplots(figsize=(9,6))\n",
        "barplot(data = popular_movies.head(10),\n",
        "            y = 'primaryTitle',\n",
        "            x = 'weighted_rating',\n",
        "            palette = 'mako')\n",
        "despine()"
      ]
    },
    {
      "cell_type": "markdown",
      "metadata": {
        "id": "8EHqK1l0KE-j"
      },
      "source": [
        "# Content based \n",
        "\n",
        "**Introduction**\n",
        "\n",
        "For example, if a person has liked the movie “Inception”, then this algorithm will recommend movies that fall under the same genre.\n",
        "\n",
        "Here we create a better way of recommendation by introducing other features of the content into our engine.\n",
        "\n",
        "It's an improvement compared to the popularity based recommendation we mentioned earlier.\n",
        "\n",
        "Now, the customer who read, watch, or like any kinds of specific products will get a recommendation based on the product they interacted in the past.\n",
        "\n",
        "Consider the example of Netflix. They save all the information related to each user in a vector form. This vector contains the past behavior of the user, i.e. the movies liked/disliked by the user and the ratings given by them. This vector is known as the profile vector. All the information related to movies is stored in another vector called the item vector. Item vector contains the details of each movie, like genre, cast, director, etc. The content-based filtering algorithm finds the cosine of the angle between the profile vector and item vector, i.e. cosine similarity.\n",
        "\n",
        "**Drawback**\n",
        "\n",
        "A major drawback of this algorithm is that it is limited to recommending items that are of the same type.\n",
        "It will never recommend products which the user has not bought or liked in the past. So if a user has watched or liked only action movies in the past, the system will recommend only action movies.\n",
        "\n",
        "**Reference**\n",
        "\n",
        "[Building a movie content based recommender using tf-idf](https://towardsdatascience.com/content-based-recommender-systems-28a1dbd858f5)"
      ]
    },
    {
      "cell_type": "code",
      "execution_count": null,
      "metadata": {
        "colab": {
          "background_save": true
        },
        "id": "J4YXYjEuK1C2",
        "outputId": "3b2c7d40-dad7-498c-ab82-0583749d9315"
      },
      "outputs": [
        {
          "name": "stdout",
          "output_type": "stream",
          "text": [
            "The top-k similar movie to item_id 99\n"
          ]
        },
        {
          "data": {
            "text/html": [
              "<div>\n",
              "<style scoped>\n",
              "    .dataframe tbody tr th:only-of-type {\n",
              "        vertical-align: middle;\n",
              "    }\n",
              "\n",
              "    .dataframe tbody tr th {\n",
              "        vertical-align: top;\n",
              "    }\n",
              "\n",
              "    .dataframe thead th {\n",
              "        text-align: right;\n",
              "    }\n",
              "</style>\n",
              "<table border=\"1\" class=\"dataframe\">\n",
              "  <thead>\n",
              "    <tr style=\"text-align: right;\">\n",
              "      <th></th>\n",
              "      <th>item_id</th>\n",
              "      <th>genres</th>\n",
              "    </tr>\n",
              "  </thead>\n",
              "  <tbody>\n",
              "    <tr>\n",
              "      <th>0</th>\n",
              "      <td>0</td>\n",
              "      <td>Romance, Action</td>\n",
              "    </tr>\n",
              "    <tr>\n",
              "      <th>99</th>\n",
              "      <td>99</td>\n",
              "      <td>Romance, Action</td>\n",
              "    </tr>\n",
              "    <tr>\n",
              "      <th>211</th>\n",
              "      <td>211</td>\n",
              "      <td>Romance, Action</td>\n",
              "    </tr>\n",
              "    <tr>\n",
              "      <th>352</th>\n",
              "      <td>352</td>\n",
              "      <td>Romance, Action</td>\n",
              "    </tr>\n",
              "    <tr>\n",
              "      <th>512</th>\n",
              "      <td>512</td>\n",
              "      <td>Action, Romance</td>\n",
              "    </tr>\n",
              "    <tr>\n",
              "      <th>618</th>\n",
              "      <td>618</td>\n",
              "      <td>Romance, Action</td>\n",
              "    </tr>\n",
              "    <tr>\n",
              "      <th>737</th>\n",
              "      <td>737</td>\n",
              "      <td>Action, Romance</td>\n",
              "    </tr>\n",
              "    <tr>\n",
              "      <th>744</th>\n",
              "      <td>744</td>\n",
              "      <td>Romance, Action</td>\n",
              "    </tr>\n",
              "    <tr>\n",
              "      <th>813</th>\n",
              "      <td>813</td>\n",
              "      <td>Action, Romance</td>\n",
              "    </tr>\n",
              "    <tr>\n",
              "      <th>858</th>\n",
              "      <td>858</td>\n",
              "      <td>Romance, Action</td>\n",
              "    </tr>\n",
              "  </tbody>\n",
              "</table>\n",
              "</div>"
            ],
            "text/plain": [
              "    item_id           genres\n",
              "0         0  Romance, Action\n",
              "99       99  Romance, Action\n",
              "211     211  Romance, Action\n",
              "352     352  Romance, Action\n",
              "512     512  Action, Romance\n",
              "618     618  Romance, Action\n",
              "737     737  Action, Romance\n",
              "744     744  Romance, Action\n",
              "813     813  Action, Romance\n",
              "858     858  Romance, Action"
            ]
          },
          "metadata": {},
          "output_type": "display_data"
        }
      ],
      "source": [
        "from sklearn.metrics.pairwise import cosine_similarity\n",
        "\n",
        "def top_k_items(item_id, top_k, corr_mat, map_name):\n",
        "    \n",
        "    # sort correlation value ascendingly and select top_k item_id\n",
        "    top_items = corr_mat[item_id,:].argsort()[-top_k:][::-1] \n",
        "    top_items = [map_name[e] for e in top_items] \n",
        "\n",
        "    return top_items\n",
        "\n",
        "# preprocessing\n",
        "rated_items = items.loc[items[ITEM_COL].isin(ratings[ITEM_COL])].copy()\n",
        "\n",
        "# extract the genre\n",
        "genre = rated_items['genres'].str.split(\",\", expand=True)\n",
        "\n",
        "# get all possible genre\n",
        "all_genre = set()\n",
        "for c in genre.columns:\n",
        "    distinct_genre = genre[c].str.lower().str.strip().unique()\n",
        "    all_genre.update(distinct_genre)\n",
        "all_genre.remove(None)\n",
        "\n",
        "# create item-genre matrix\n",
        "item_genre_mat = rated_items[[ITEM_COL, 'genres']].copy()\n",
        "item_genre_mat['genres'] = item_genre_mat['genres'].str.lower().str.strip()\n",
        "\n",
        "# OHE the genres column\n",
        "for genre in all_genre:\n",
        "    item_genre_mat[genre] = np.where(item_genre_mat['genres'].str.contains(genre), 1, 0)\n",
        "item_genre_mat = item_genre_mat.drop(['genres'], axis=1)\n",
        "item_genre_mat = item_genre_mat.set_index(ITEM_COL)\n",
        "\n",
        "# compute similarity matix\n",
        "corr_mat = cosine_similarity(item_genre_mat)\n",
        "\n",
        "# get top-k similar items\n",
        "ind2name = {ind:name for ind,name in enumerate(item_genre_mat.index)}\n",
        "name2ind = {v:k for k,v in ind2name.items()}\n",
        "similar_items = top_k_items(name2ind['99'],\n",
        "                            top_k = 10,\n",
        "                            corr_mat = corr_mat,\n",
        "                            map_name = ind2name)\n",
        "\n",
        "# display result\n",
        "print(\"The top-k similar movie to item_id 99\")\n",
        "display(items.loc[items[ITEM_COL].isin(similar_items)])\n",
        "\n",
        "del corr_mat\n",
        "gc.collect();"
      ]
    },
    {
      "cell_type": "markdown",
      "metadata": {
        "id": "jme6wp0MK1ng"
      },
      "source": [
        "Summary\n",
        "\n",
        "As we expect, all the similar items interm of genre is in the top-k recommendation."
      ]
    },
    {
      "cell_type": "markdown",
      "metadata": {
        "id": "T0LqiAD4JIut"
      },
      "source": [
        "# Collaborative filtering\n",
        "\n",
        "**Introduction**\n",
        "\n",
        "The collaborative filtering algorithm uses “User Behavior” for recommending items. This is one of the most commonly used algorithms in the industry as it is not dependent on any additional information.\n",
        "\n",
        "There are 2 ways we can make a prediction using the collaborative filtering technique.\n",
        "\n",
        "1. User based - The user-similarity matrix will consist of some distance metric that measures the similarity between any two pairs of users.\n",
        "This algorithm is useful when the number of users is less. Its not effective when there are a large number of users as it will take a lot of time to compute the similarity between all user pairs. This leads us to item-item collaborative filtering, which is effective when the number of users is more than the items being recommended.\n",
        "\n",
        "2. Item based - Likewise, the item-similarity matrix will measure the similarity between any two pairs of items.\n",
        "\n",
        "**Drawback**\n",
        "\n",
        "What will happen if a new user or a new item is added in the dataset? The answer is we can't make a prediction for that user or item because we don't have enough \"User behavior\" information. This problem is called a Cold Start. \n",
        "\n",
        "There are two types of cold start.\n",
        "1. User - Since there is no history of that user, the system does not know the preferences of that user\n",
        "These can be determined by what has been popular recently overall or regionally.\n",
        "\n",
        "2. Item - More the interaction a product receives, the easier it is for our model to recommend that product to the right user.\n",
        "We can make use of Content based filtering to solve this problem."
      ]
    },
    {
      "cell_type": "markdown",
      "metadata": {
        "id": "1w9c4fVUR2Zp"
      },
      "source": [
        "## 3.1 Memory based approache\n",
        "\n",
        "**Introduction**\n",
        "\n",
        "The key difference of memory-based approach from the model-based techniques is that we are not learning any parameter using gradient descent (or any other optimization algorithm). The closest user or items are calculated only by using Cosine similarity or Pearson correlation coefficients, which are only based on arithmetic operations. various-implementations-of-collaborative-filtering\n",
        "\n",
        "Memory-based methods use user rating historical data to compute the similarity between users or items. The idea behind these methods is to define a similarity measure between users or items, and find the most similar to recommend unseen items. Building a memory based collaborative filtering recommender\n",
        "\n",
        "**Drawback**\n",
        "\n",
        "It's not scalable due to the sprasity of the data.\n",
        "We needs to construct the similarity matrix everytime the new user comes. (Hard to maintain, and operationalize)\n",
        "\n",
        "**Action**\n",
        "\n",
        "- The list result can be showed in the front-end application like \"Made for you\" -> Provide the list of recommended items.\n",
        "- The list result can be showed in the front-end application like \"Because you like item\" -> Provided the list of recommended items.\n"
      ]
    },
    {
      "cell_type": "code",
      "execution_count": null,
      "metadata": {
        "colab": {
          "background_save": true
        },
        "id": "ZQU_akPFSsft",
        "outputId": "8befbfb0-7a87-46b9-d81a-279165caff47"
      },
      "outputs": [
        {
          "name": "stdout",
          "output_type": "stream",
          "text": [
            "Sparsity: 0.35%. This means that 0.35% of the user-item ratings have a value.\n",
            "\n",
            "The top-k similar movie to item_id 99\n"
          ]
        },
        {
          "data": {
            "text/html": [
              "<div>\n",
              "<style scoped>\n",
              "    .dataframe tbody tr th:only-of-type {\n",
              "        vertical-align: middle;\n",
              "    }\n",
              "\n",
              "    .dataframe tbody tr th {\n",
              "        vertical-align: top;\n",
              "    }\n",
              "\n",
              "    .dataframe thead th {\n",
              "        text-align: right;\n",
              "    }\n",
              "</style>\n",
              "<table border=\"1\" class=\"dataframe\">\n",
              "  <thead>\n",
              "    <tr style=\"text-align: right;\">\n",
              "      <th></th>\n",
              "      <th>item_id</th>\n",
              "      <th>genres</th>\n",
              "    </tr>\n",
              "  </thead>\n",
              "  <tbody>\n",
              "    <tr>\n",
              "      <th>99</th>\n",
              "      <td>99</td>\n",
              "      <td>Romance, Action</td>\n",
              "    </tr>\n",
              "    <tr>\n",
              "      <th>248</th>\n",
              "      <td>248</td>\n",
              "      <td>Horror</td>\n",
              "    </tr>\n",
              "    <tr>\n",
              "      <th>352</th>\n",
              "      <td>352</td>\n",
              "      <td>Romance, Action</td>\n",
              "    </tr>\n",
              "    <tr>\n",
              "      <th>392</th>\n",
              "      <td>392</td>\n",
              "      <td>Romance, Action</td>\n",
              "    </tr>\n",
              "    <tr>\n",
              "      <th>507</th>\n",
              "      <td>507</td>\n",
              "      <td>Horror, Western</td>\n",
              "    </tr>\n",
              "    <tr>\n",
              "      <th>570</th>\n",
              "      <td>570</td>\n",
              "      <td>Horror</td>\n",
              "    </tr>\n",
              "    <tr>\n",
              "      <th>730</th>\n",
              "      <td>730</td>\n",
              "      <td>Fantasy</td>\n",
              "    </tr>\n",
              "    <tr>\n",
              "      <th>757</th>\n",
              "      <td>757</td>\n",
              "      <td>Romance, Thriller</td>\n",
              "    </tr>\n",
              "    <tr>\n",
              "      <th>824</th>\n",
              "      <td>824</td>\n",
              "      <td>Fantasy</td>\n",
              "    </tr>\n",
              "    <tr>\n",
              "      <th>899</th>\n",
              "      <td>899</td>\n",
              "      <td>Comedy</td>\n",
              "    </tr>\n",
              "  </tbody>\n",
              "</table>\n",
              "</div>"
            ],
            "text/plain": [
              "    item_id             genres\n",
              "99       99    Romance, Action\n",
              "248     248             Horror\n",
              "352     352    Romance, Action\n",
              "392     392    Romance, Action\n",
              "507     507    Horror, Western\n",
              "570     570             Horror\n",
              "730     730            Fantasy\n",
              "757     757  Romance, Thriller\n",
              "824     824            Fantasy\n",
              "899     899             Comedy"
            ]
          },
          "metadata": {},
          "output_type": "display_data"
        }
      ],
      "source": [
        "from scipy.sparse import csr_matrix\n",
        "\n",
        "# preprocess data\n",
        "row = ratings[USER_COL]\n",
        "col = ratings[ITEM_COL]\n",
        "data = ratings[RATING_COL]\n",
        "\n",
        "# init user-item matrix\n",
        "mat = csr_matrix((data, (row, col)), shape=(NUM_USERS, NUM_ITEMS))\n",
        "mat.eliminate_zeros()\n",
        "\n",
        "# calculate sparsity\n",
        "sparsity = float(len(mat.nonzero()[0]))\n",
        "sparsity /= (mat.shape[0] * mat.shape[1])\n",
        "sparsity *= 100\n",
        "print(f'Sparsity: {sparsity:4.2f}%. This means that {sparsity:4.2f}% of the user-item ratings have a value.')\n",
        "\n",
        "# compute similarity\n",
        "item_corr_mat = cosine_similarity(mat.T)\n",
        "\n",
        "# get top k item\n",
        "print(\"\\nThe top-k similar movie to item_id 99\")\n",
        "similar_items = top_k_items(name2ind['99'],\n",
        "                            top_k = 10,\n",
        "                            corr_mat = item_corr_mat,\n",
        "                            map_name = ind2name)\n",
        "\n",
        "display(items.loc[items[ITEM_COL].isin(similar_items)])"
      ]
    },
    {
      "cell_type": "markdown",
      "metadata": {
        "id": "7vbEOgthUOk1"
      },
      "source": [
        "Summary\n",
        "\n",
        "Now, we will get the different set of result from the content-based. The similaity between items has been calculated based on the \"User-behavior\" rather than the attributes of the items."
      ]
    },
    {
      "cell_type": "markdown",
      "metadata": {
        "id": "XgfvmPF9UcKa"
      },
      "source": [
        "## 3.2 Model-based approach¶\n",
        "\n",
        "**Introduction**\n",
        "\n",
        "Model-based CF uses machine learning algorithms to predict users’ rating of unrated items. \n",
        "There are many model-based CF algorithms, the most commonly used are matrix factorization models such as to applying a SVD to reconstruct the rating matrix, latent Dirichlet allocation or Markov decision process based models. Building a memory based collaborative filtering recommender\n",
        "\n",
        "**Type**\n",
        "\n",
        "- Matrix Factorization (MF) based\n",
        "    1. TruncatedSVD (Sklearn)\n",
        "    2. Funk MF (Surprise)\n",
        "    3. Non negative MF (Surprise)\n",
        "- Deep learning MF based\n",
        "    1. Generalizaed MF (Keras)\n",
        "    2. Neural Collaborative filtering (Recommenders)"
      ]
    },
    {
      "cell_type": "markdown",
      "metadata": {
        "id": "0r6-BQeiVeD9"
      },
      "source": [
        "### 3.2.1 TrucatedSVD"
      ]
    },
    {
      "cell_type": "code",
      "execution_count": null,
      "metadata": {
        "colab": {
          "background_save": true
        },
        "id": "iwNSoyueWX9U",
        "outputId": "d0ab8c8d-f10a-4504-87eb-0667b9955472"
      },
      "outputs": [
        {
          "name": "stdout",
          "output_type": "stream",
          "text": [
            "\n",
            "The top-k similar movie to item_id 99\n"
          ]
        },
        {
          "data": {
            "text/html": [
              "<div>\n",
              "<style scoped>\n",
              "    .dataframe tbody tr th:only-of-type {\n",
              "        vertical-align: middle;\n",
              "    }\n",
              "\n",
              "    .dataframe tbody tr th {\n",
              "        vertical-align: top;\n",
              "    }\n",
              "\n",
              "    .dataframe thead th {\n",
              "        text-align: right;\n",
              "    }\n",
              "</style>\n",
              "<table border=\"1\" class=\"dataframe\">\n",
              "  <thead>\n",
              "    <tr style=\"text-align: right;\">\n",
              "      <th></th>\n",
              "      <th>item_id</th>\n",
              "      <th>genres</th>\n",
              "    </tr>\n",
              "  </thead>\n",
              "  <tbody>\n",
              "    <tr>\n",
              "      <th>75</th>\n",
              "      <td>75</td>\n",
              "      <td>Romance</td>\n",
              "    </tr>\n",
              "    <tr>\n",
              "      <th>90</th>\n",
              "      <td>90</td>\n",
              "      <td>Action, Fantasy</td>\n",
              "    </tr>\n",
              "    <tr>\n",
              "      <th>99</th>\n",
              "      <td>99</td>\n",
              "      <td>Romance, Action</td>\n",
              "    </tr>\n",
              "    <tr>\n",
              "      <th>359</th>\n",
              "      <td>359</td>\n",
              "      <td>Horror, Mystery</td>\n",
              "    </tr>\n",
              "    <tr>\n",
              "      <th>521</th>\n",
              "      <td>521</td>\n",
              "      <td>Thriller</td>\n",
              "    </tr>\n",
              "    <tr>\n",
              "      <th>568</th>\n",
              "      <td>568</td>\n",
              "      <td>Romance</td>\n",
              "    </tr>\n",
              "    <tr>\n",
              "      <th>629</th>\n",
              "      <td>629</td>\n",
              "      <td>Thriller</td>\n",
              "    </tr>\n",
              "    <tr>\n",
              "      <th>802</th>\n",
              "      <td>802</td>\n",
              "      <td>Mystery, Action</td>\n",
              "    </tr>\n",
              "    <tr>\n",
              "      <th>832</th>\n",
              "      <td>832</td>\n",
              "      <td>Action</td>\n",
              "    </tr>\n",
              "    <tr>\n",
              "      <th>885</th>\n",
              "      <td>885</td>\n",
              "      <td>Romance</td>\n",
              "    </tr>\n",
              "  </tbody>\n",
              "</table>\n",
              "</div>"
            ],
            "text/plain": [
              "    item_id           genres\n",
              "75       75          Romance\n",
              "90       90  Action, Fantasy\n",
              "99       99  Romance, Action\n",
              "359     359  Horror, Mystery\n",
              "521     521         Thriller\n",
              "568     568          Romance\n",
              "629     629         Thriller\n",
              "802     802  Mystery, Action\n",
              "832     832           Action\n",
              "885     885          Romance"
            ]
          },
          "metadata": {},
          "output_type": "display_data"
        }
      ],
      "source": [
        "from sklearn.decomposition import TruncatedSVD\n",
        "\n",
        "epsilon = 1e-9\n",
        "n_latent_factors = 10\n",
        "\n",
        "# calculate item latent matrix\n",
        "item_svd = TruncatedSVD(n_components = n_latent_factors)\n",
        "item_features = item_svd.fit_transform(mat.transpose()) + epsilon\n",
        "\n",
        "# calculate user latent matrix\n",
        "user_svd = TruncatedSVD(n_components = n_latent_factors)\n",
        "user_features = user_svd.fit_transform(mat) + epsilon\n",
        "\n",
        "# compute similarity\n",
        "item_corr_mat = cosine_similarity(item_features)\n",
        "\n",
        "# get top k item\n",
        "print(\"\\nThe top-k similar movie to item_id 99\")\n",
        "similar_items = top_k_items(name2ind['99'],\n",
        "                            top_k = 10,\n",
        "                            corr_mat = item_corr_mat,\n",
        "                            map_name = ind2name)\n",
        "\n",
        "display(items.loc[items[ITEM_COL].isin(similar_items)])\n",
        "\n",
        "del user_features\n",
        "gc.collect();"
      ]
    },
    {
      "cell_type": "markdown",
      "metadata": {
        "id": "ac5z421WWm1Q"
      },
      "source": [
        "Summary\n",
        "\n",
        "With this method, you can see that we can compute the similarity based on the specific number of latent factor.\n",
        "\n",
        "Now, the recommendation would be based on some latent factors that we cannot explain directly.\n",
        "But in mathematically speaking, it will be the top latent factor that minimize the loss between the Actual rating and Reconstructed rating.\n",
        "You can see that now we reduce the size of matrix compared to the one in memory-based approach. however, it's still not good enough approach because eventually when the user, or item size growing with the time.\n",
        "Soon it will reach the limitation of computation resouce as well."
      ]
    },
    {
      "cell_type": "markdown",
      "metadata": {
        "id": "loRUBhr8W3fk"
      },
      "source": [
        "### 3.2.2 Funk MF"
      ]
    },
    {
      "cell_type": "code",
      "execution_count": null,
      "metadata": {
        "colab": {
          "background_save": true
        },
        "id": "O4-ouJ27XXCm"
      },
      "outputs": [],
      "source": [
        "!pip install scikit-surprise -q"
      ]
    },
    {
      "cell_type": "code",
      "execution_count": null,
      "metadata": {
        "colab": {
          "background_save": true
        },
        "id": "L7Imga3WW6I_",
        "outputId": "dce2a867-82bd-4bee-ed05-2feee404755e"
      },
      "outputs": [
        {
          "name": "stdout",
          "output_type": "stream",
          "text": [
            "RMSE: 2.6256\n",
            "\n",
            "The top-k similar movie to item_id 99\n"
          ]
        },
        {
          "data": {
            "text/html": [
              "<div>\n",
              "<style scoped>\n",
              "    .dataframe tbody tr th:only-of-type {\n",
              "        vertical-align: middle;\n",
              "    }\n",
              "\n",
              "    .dataframe tbody tr th {\n",
              "        vertical-align: top;\n",
              "    }\n",
              "\n",
              "    .dataframe thead th {\n",
              "        text-align: right;\n",
              "    }\n",
              "</style>\n",
              "<table border=\"1\" class=\"dataframe\">\n",
              "  <thead>\n",
              "    <tr style=\"text-align: right;\">\n",
              "      <th></th>\n",
              "      <th>item_id</th>\n",
              "      <th>genres</th>\n",
              "    </tr>\n",
              "  </thead>\n",
              "  <tbody>\n",
              "    <tr>\n",
              "      <th>99</th>\n",
              "      <td>99</td>\n",
              "      <td>Romance, Action</td>\n",
              "    </tr>\n",
              "    <tr>\n",
              "      <th>114</th>\n",
              "      <td>114</td>\n",
              "      <td>Thriller, Romance</td>\n",
              "    </tr>\n",
              "    <tr>\n",
              "      <th>180</th>\n",
              "      <td>180</td>\n",
              "      <td>Comedy</td>\n",
              "    </tr>\n",
              "    <tr>\n",
              "      <th>194</th>\n",
              "      <td>194</td>\n",
              "      <td>Mystery</td>\n",
              "    </tr>\n",
              "    <tr>\n",
              "      <th>366</th>\n",
              "      <td>366</td>\n",
              "      <td>Action</td>\n",
              "    </tr>\n",
              "    <tr>\n",
              "      <th>546</th>\n",
              "      <td>546</td>\n",
              "      <td>Action, Thriller</td>\n",
              "    </tr>\n",
              "    <tr>\n",
              "      <th>599</th>\n",
              "      <td>599</td>\n",
              "      <td>Romance</td>\n",
              "    </tr>\n",
              "    <tr>\n",
              "      <th>611</th>\n",
              "      <td>611</td>\n",
              "      <td>Drama, Comedy</td>\n",
              "    </tr>\n",
              "    <tr>\n",
              "      <th>771</th>\n",
              "      <td>771</td>\n",
              "      <td>Romance, Western</td>\n",
              "    </tr>\n",
              "    <tr>\n",
              "      <th>801</th>\n",
              "      <td>801</td>\n",
              "      <td>Drama</td>\n",
              "    </tr>\n",
              "  </tbody>\n",
              "</table>\n",
              "</div>"
            ],
            "text/plain": [
              "    item_id             genres\n",
              "99       99    Romance, Action\n",
              "114     114  Thriller, Romance\n",
              "180     180             Comedy\n",
              "194     194            Mystery\n",
              "366     366             Action\n",
              "546     546   Action, Thriller\n",
              "599     599            Romance\n",
              "611     611      Drama, Comedy\n",
              "771     771   Romance, Western\n",
              "801     801              Drama"
            ]
          },
          "metadata": {},
          "output_type": "display_data"
        }
      ],
      "source": [
        "from surprise import SVD, accuracy\n",
        "from surprise import Dataset, Reader\n",
        "from surprise.model_selection import cross_validate\n",
        "from surprise.model_selection.split import train_test_split\n",
        "\n",
        "def pred2dict(predictions, top_k=None):\n",
        "    \n",
        "    rec_dict = defaultdict(list)\n",
        "    for user_id, item_id, actual_rating, pred_rating, _ in predictions:\n",
        "        rec_dict[user_id].append((item_id, pred_rating))        \n",
        "        \n",
        "    return rec_dict\n",
        "\n",
        "def get_top_k_recommendation(rec_dict, user_id, top_k, ind2name):\n",
        "    \n",
        "    pred_ratings = rec_dict[user_id]\n",
        "    # sort descendingly by pred_rating\n",
        "    pred_ratings = sorted(pred_ratings, key=lambda x: x[1], reverse=True)\n",
        "    pred_ratings = pred_ratings[:top_k]\n",
        "    recs = [ind2name[e[0]] for e in pred_ratings]\n",
        "    \n",
        "    return recs\n",
        "\n",
        "# prepare train and test sets\n",
        "reader = Reader(rating_scale=(1,10))\n",
        "data = Dataset.load_from_df(ratings, reader)\n",
        "train, test = train_test_split(data, test_size=.2, random_state=42)\n",
        "\n",
        "# init and fit the funk mf model\n",
        "algo = SVD(random_state = 42)\n",
        "algo.fit(train)\n",
        "pred = algo.test(test);\n",
        "\n",
        "# evaluation the test set\n",
        "accuracy.rmse(pred)\n",
        "\n",
        "# extract the item features from algo\n",
        "item_corr_mat = cosine_similarity(algo.qi)\n",
        "\n",
        "print(\"\\nThe top-k similar movie to item_id 99\")\n",
        "similar_items = top_k_items(name2ind['99'],\n",
        "                            top_k = 10,\n",
        "                            corr_mat = item_corr_mat,\n",
        "                            map_name = ind2name)\n",
        "\n",
        "display(items.loc[items[ITEM_COL].isin(similar_items)])\n",
        "\n",
        "del item_corr_mat\n",
        "gc.collect();"
      ]
    },
    {
      "cell_type": "markdown",
      "metadata": {
        "id": "SlVYFT5LYB1m"
      },
      "source": [
        "Summary\n",
        "\n",
        "Here we use the Funk MF algorithms to create the latent factors matrix, and now we can build both the user-based, item-based recommendation.\n",
        "We also randomly split out some users from the train set into the test set for the validation purpose."
      ]
    },
    {
      "cell_type": "markdown",
      "metadata": {
        "id": "upcYlKRkXV2V"
      },
      "source": [
        "### 3.2.3 Deep learning MF - Generalized Matrix Factorization (MF)\n",
        "Usually, in the MF method, we tried to learn the user-item interaction or tried to reconstruct the predicted rating with the inner product of the shared lated features.\n",
        "\n",
        "Now, for the deep learning approach, we use the different internal engine which is the DNNs to estimate the user and item laten features. We estimate the shared latent feature minimizing the target loss function.\n",
        "\n",
        "After that, we used the fitted model to predict the pair of item that each customer have never watched to see what to recommend next.\n",
        "\n"
      ]
    },
    {
      "cell_type": "code",
      "execution_count": null,
      "metadata": {
        "colab": {
          "background_save": true
        },
        "id": "KIxzJwaLaOHY"
      },
      "outputs": [],
      "source": [
        "# !pip install -q tensorflow-recommenders\n",
        "# !pip install -q --upgrade tensorflow-datasets\n",
        "# !pip install -q scann"
      ]
    },
    {
      "cell_type": "code",
      "execution_count": null,
      "metadata": {
        "colab": {
          "background_save": true
        },
        "id": "givA5CGbaUD9",
        "outputId": "fbb5642d-7447-4f55-e622-8a61f9b5a2d5"
      },
      "outputs": [
        {
          "name": "stdout",
          "output_type": "stream",
          "text": [
            "`%tensorflow_version` only switches the major version: 1.x or 2.x.\n",
            "You set: `2.x  # this line is not required unless you are in a notebook`. This will be interpreted as: `2.x`.\n",
            "\n",
            "\n",
            "TensorFlow is already loaded. Please restart the runtime to change versions.\n"
          ]
        }
      ],
      "source": [
        "# %tensorflow_version 2.x  # this line is not required unless you are in a notebook"
      ]
    },
    {
      "cell_type": "code",
      "execution_count": null,
      "metadata": {
        "colab": {
          "base_uri": "https://localhost:8080/",
          "height": 495
        },
        "id": "Y2zBc5j7Xrt1",
        "outputId": "eea1dd96-695a-4c69-d27f-3551420ee0d2"
      },
      "outputs": [
        {
          "name": "stdout",
          "output_type": "stream",
          "text": [
            "\n",
            "Evaluation on the test set:\n"
          ]
        },
        {
          "data": {
            "text/plain": [
              "{'loss': 6.006824970245361,\n",
              " 'regularization_loss': 0,\n",
              " 'root_mean_squared_error': 2.5790839195251465,\n",
              " 'total_loss': 6.006824970245361}"
            ]
          },
          "metadata": {},
          "output_type": "display_data"
        },
        {
          "name": "stdout",
          "output_type": "stream",
          "text": [
            "\n",
            "The top-k similar movie to item_id 99\n"
          ]
        },
        {
          "data": {
            "text/html": [
              "<div>\n",
              "<style scoped>\n",
              "    .dataframe tbody tr th:only-of-type {\n",
              "        vertical-align: middle;\n",
              "    }\n",
              "\n",
              "    .dataframe tbody tr th {\n",
              "        vertical-align: top;\n",
              "    }\n",
              "\n",
              "    .dataframe thead th {\n",
              "        text-align: right;\n",
              "    }\n",
              "</style>\n",
              "<table border=\"1\" class=\"dataframe\">\n",
              "  <thead>\n",
              "    <tr style=\"text-align: right;\">\n",
              "      <th></th>\n",
              "      <th>item_id</th>\n",
              "      <th>genres</th>\n",
              "    </tr>\n",
              "  </thead>\n",
              "  <tbody>\n",
              "    <tr>\n",
              "      <th>94</th>\n",
              "      <td>94</td>\n",
              "      <td>Thriller</td>\n",
              "    </tr>\n",
              "    <tr>\n",
              "      <th>99</th>\n",
              "      <td>99</td>\n",
              "      <td>Romance, Action</td>\n",
              "    </tr>\n",
              "    <tr>\n",
              "      <th>194</th>\n",
              "      <td>194</td>\n",
              "      <td>Mystery</td>\n",
              "    </tr>\n",
              "    <tr>\n",
              "      <th>206</th>\n",
              "      <td>206</td>\n",
              "      <td>Romance</td>\n",
              "    </tr>\n",
              "    <tr>\n",
              "      <th>228</th>\n",
              "      <td>228</td>\n",
              "      <td>Mystery</td>\n",
              "    </tr>\n",
              "    <tr>\n",
              "      <th>351</th>\n",
              "      <td>351</td>\n",
              "      <td>Action, Western</td>\n",
              "    </tr>\n",
              "    <tr>\n",
              "      <th>404</th>\n",
              "      <td>404</td>\n",
              "      <td>Mystery</td>\n",
              "    </tr>\n",
              "    <tr>\n",
              "      <th>534</th>\n",
              "      <td>534</td>\n",
              "      <td>Action, Western</td>\n",
              "    </tr>\n",
              "    <tr>\n",
              "      <th>541</th>\n",
              "      <td>541</td>\n",
              "      <td>Drama</td>\n",
              "    </tr>\n",
              "    <tr>\n",
              "      <th>994</th>\n",
              "      <td>994</td>\n",
              "      <td>Action</td>\n",
              "    </tr>\n",
              "  </tbody>\n",
              "</table>\n",
              "</div>"
            ],
            "text/plain": [
              "    item_id           genres\n",
              "94       94         Thriller\n",
              "99       99  Romance, Action\n",
              "194     194          Mystery\n",
              "206     206          Romance\n",
              "228     228          Mystery\n",
              "351     351  Action, Western\n",
              "404     404          Mystery\n",
              "534     534  Action, Western\n",
              "541     541            Drama\n",
              "994     994           Action"
            ]
          },
          "metadata": {},
          "output_type": "display_data"
        }
      ],
      "source": [
        "from IPython.display import clear_output\n",
        "\n",
        "import tensorflow as tf\n",
        "import tensorflow_recommenders as tfrs\n",
        "import tensorflow.keras as keras\n",
        "from sklearn.model_selection import train_test_split\n",
        "\n",
        "from typing import Dict, Text, Tuple\n",
        "\n",
        "def df_to_ds(df):\n",
        "\n",
        "    # convert pd.DataFrame to tf.data.Dataset\n",
        "    ds = tf.data.Dataset.from_tensor_slices(\n",
        "        (dict(df[['user_id','item_id']]), df['rating']))\n",
        "    \n",
        "    # convert Tuple[Dict[Text, tf.Tensor], tf.Tensor] to Dict[Text, tf.Tensor]\n",
        "    ds = ds.map(lambda x, y: {\n",
        "    'user_id' : x['user_id'],\n",
        "    'item_id' : x['item_id'],\n",
        "    'rating' : y\n",
        "    })\n",
        "\n",
        "    return ds.batch(256)\n",
        "\n",
        "class RankingModel(keras.Model):\n",
        "\n",
        "    def __init__(self, user_id, item_id, embedding_size):\n",
        "        super().__init__()\n",
        "        \n",
        "        # user model\n",
        "        input = keras.Input(shape=(), dtype=tf.string)\n",
        "        x = keras.layers.StringLookup(\n",
        "            vocabulary = user_id, mask_token = None\n",
        "            )(input)\n",
        "        output = keras.layers.Embedding(\n",
        "            input_dim = len(user_id) + 1,\n",
        "            output_dim = embedding_size,\n",
        "            name = 'embedding'\n",
        "        )(x)\n",
        "        self.user_model = keras.Model(inputs = input,\n",
        "                                      outputs = output,\n",
        "                                      name = 'user_model')\n",
        "\n",
        "        # item model\n",
        "        input = keras.Input(shape=(), dtype=tf.string)\n",
        "        x = keras.layers.StringLookup(\n",
        "            vocabulary = item_id, mask_token = None\n",
        "            )(input)\n",
        "        output = keras.layers.Embedding(\n",
        "            input_dim = len(item_id) + 1,\n",
        "            output_dim = embedding_size,\n",
        "            name = 'embedding'\n",
        "        )(x)\n",
        "        self.item_model = keras.Model(inputs = input,\n",
        "                                  outputs = output,\n",
        "                                  name = 'item_model')\n",
        "\n",
        "        # rating model\n",
        "        user_input = keras.Input(shape=(embedding_size,), name='user_emb')\n",
        "        item_input = keras.Input(shape=(embedding_size,), name='item_emb')\n",
        "        x = keras.layers.Concatenate(axis=1)([user_input, item_input])\n",
        "        x = keras.layers.Dense(256, activation = 'relu')(x)\n",
        "        x = keras.layers.Dense(64, activation = 'relu')(x)\n",
        "        output = keras.layers.Dense(1)(x)\n",
        "        \n",
        "        self.rating_model = keras.Model(\n",
        "            inputs = {\n",
        "                'user_id' : user_input,\n",
        "                'item_id' : item_input\n",
        "            },\n",
        "            outputs = output,\n",
        "            name = 'rating_model'\n",
        "        )\n",
        "\n",
        "    def call(self, inputs: Dict[Text, tf.Tensor]) -> tf.Tensor:\n",
        "\n",
        "        user_emb = self.user_model(inputs['user_id'])\n",
        "        item_emb = self.item_model(inputs['item_id'])\n",
        "\n",
        "        prediction = self.rating_model({\n",
        "            'user_id' : user_emb,\n",
        "            'item_id' : item_emb\n",
        "        })\n",
        "        \n",
        "        return prediction\n",
        "\n",
        "class GMFModel(tfrs.models.Model):\n",
        "\n",
        "    def __init__(self, user_id, item_id, embedding_size):\n",
        "        super().__init__()\n",
        "        self.ranking_model = RankingModel(user_id, item_id, embedding_size)\n",
        "        self.task = tfrs.tasks.Ranking(\n",
        "            loss = keras.losses.MeanSquaredError(),\n",
        "            metrics = [keras.metrics.RootMeanSquaredError()]\n",
        "        )\n",
        "    \n",
        "    def call(self, features: Dict[Text, tf.Tensor]) -> tf.Tensor:\n",
        "        \n",
        "        return self.ranking_model(\n",
        "            {\n",
        "             'user_id' : features['user_id'], \n",
        "             'item_id' : features['item_id']\n",
        "            })\n",
        "\n",
        "    def compute_loss(self, features: Dict[Text, tf.Tensor], training=False) -> tf.Tensor:\n",
        "\n",
        "        return self.task(labels = features.pop('rating'),\n",
        "                         predictions = self.ranking_model(features))\n",
        "\n",
        "# preprocess\n",
        "train, test = train_test_split(ratings, train_size = .8, random_state=42)\n",
        "train, test = df_to_ds(train), df_to_ds(test)\n",
        "\n",
        "# # init model\n",
        "embedding_size = 64\n",
        "model = GMFModel(user_id.astype(str),\n",
        "                 item_id.astype(str),\n",
        "                 embedding_size)\n",
        "model.compile(\n",
        "    optimizer = keras.optimizers.Adagrad(learning_rate = .01)\n",
        ")\n",
        "\n",
        "# # fitting the model\n",
        "model.fit(train, epochs=3, verbose=0)\n",
        "\n",
        "# evaluate with the test data\n",
        "result = model.evaluate(test, return_dict=True, verbose=0)\n",
        "print(\"\\nEvaluation on the test set:\")\n",
        "display(result)\n",
        "\n",
        "# extract item embedding\n",
        "item_emb = model.ranking_model.item_model.layers[-1].get_weights()[0]\n",
        "\n",
        "\n",
        "item_corr_mat = cosine_similarity(item_emb)\n",
        "\n",
        "print(\"\\nThe top-k similar movie to item_id 99\")\n",
        "similar_items = top_k_items(name2ind['99'],\n",
        "                            top_k = 10,\n",
        "                            corr_mat = item_corr_mat,\n",
        "                            map_name = ind2name)\n",
        "\n",
        "display(items.loc[items[ITEM_COL].isin(similar_items)])\n",
        "\n",
        "del item_corr_mat\n",
        "gc.collect();"
      ]
    },
    {
      "cell_type": "markdown",
      "metadata": {
        "id": "GwZ9L81RmSW0"
      },
      "source": [
        "### 3.2.4 Deep learning MF - Neural Collaborative Filtering (NCF)\n",
        "\n",
        "Due to the library conflie, remove the implementation."
      ]
    }
  ],
  "metadata": {
    "colab": {
      "collapsed_sections": [],
      "include_colab_link": true,
      "provenance": []
    },
    "kernelspec": {
      "display_name": "Python 3.10.4 ('.venv': poetry)",
      "language": "python",
      "name": "python3"
    },
    "language_info": {
      "codemirror_mode": {
        "name": "ipython",
        "version": 3
      },
      "file_extension": ".py",
      "mimetype": "text/x-python",
      "name": "python",
      "nbconvert_exporter": "python",
      "pygments_lexer": "ipython3",
      "version": "3.10.4"
    },
    "vscode": {
      "interpreter": {
        "hash": "02a20ed9ed36601ebf31ecbba2c3288113df34b1a61d4a6ac8a1da6772dc9c2c"
      }
    }
  },
  "nbformat": 4,
  "nbformat_minor": 0
}
